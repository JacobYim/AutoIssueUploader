{
 "cells": [
  {
   "cell_type": "code",
   "execution_count": 13,
   "metadata": {},
   "outputs": [],
   "source": [
    "import pandas as pd\n",
    "xlsx_file = 'HMC OEM 내비게이션 개발 협업 (HMCOEM)_03-09-2023-13-29-22.xlsx'\n",
    "df = pd.read_excel(xlsx_file, header=0, index_col=0)\n",
    "data = list(df[0:100].to_dict('series').values())"
   ]
  },
  {
   "cell_type": "code",
   "execution_count": 11,
   "metadata": {},
   "outputs": [],
   "source": [
    "excel_row_items = list(df.axes[0])"
   ]
  },
  {
   "cell_type": "code",
   "execution_count": 2,
   "metadata": {},
   "outputs": [],
   "source": [
    "xlsx_file = 'test.xlsx'\n",
    "df = pd.DataFrame(data).transpose()\n",
    "df.to_excel(xlsx_file, header=True, index=True)"
   ]
  },
  {
   "cell_type": "code",
   "execution_count": 12,
   "metadata": {},
   "outputs": [],
   "source": [
    "from openpyxl import load_workbook\n",
    "\n",
    "def update_cell(xlsx_file, sheet_name, row, column, value):\n",
    "    # Load the workbook\n",
    "    workbook = load_workbook(filename=xlsx_file)\n",
    "\n",
    "    # Select the worksheet\n",
    "    worksheet = workbook[sheet_name]\n",
    "\n",
    "    # Get the cell\n",
    "    cell = worksheet.cell(row=row, column=column)\n",
    "\n",
    "    # Update the cell value\n",
    "    cell.value = value\n",
    "\n",
    "    # Save the workbook\n",
    "    workbook.save(filename=xlsx_file)"
   ]
  },
  {
   "cell_type": "code",
   "execution_count": 14,
   "metadata": {},
   "outputs": [],
   "source": [
    "update_cell(xlsx_file, 'Sheet1', 52, 2, 1)"
   ]
  },
  {
   "cell_type": "code",
   "execution_count": null,
   "metadata": {},
   "outputs": [],
   "source": []
  }
 ],
 "metadata": {
  "kernelspec": {
   "display_name": "Python 3",
   "language": "python",
   "name": "python3"
  },
  "language_info": {
   "codemirror_mode": {
    "name": "ipython",
    "version": 3
   },
   "file_extension": ".py",
   "mimetype": "text/x-python",
   "name": "python",
   "nbconvert_exporter": "python",
   "pygments_lexer": "ipython3",
   "version": "3.10.10"
  },
  "orig_nbformat": 4
 },
 "nbformat": 4,
 "nbformat_minor": 2
}
